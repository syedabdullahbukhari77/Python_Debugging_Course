{
  "nbformat": 4,
  "nbformat_minor": 0,
  "metadata": {
    "colab": {
      "provenance": []
    },
    "kernelspec": {
      "name": "python3",
      "display_name": "Python 3"
    },
    "language_info": {
      "name": "python"
    }
  },
  "cells": [
    {
      "cell_type": "code",
      "source": [
        "!pip install Arrays"
      ],
      "metadata": {
        "id": "zUhXxXPGTA71",
        "colab": {
          "base_uri": "https://localhost:8080/"
        },
        "outputId": "c97b4e00-679d-4480-8477-05a1251c8c9c",
        "collapsed": true
      },
      "execution_count": null,
      "outputs": [
        {
          "output_type": "stream",
          "name": "stdout",
          "text": [
            "Collecting Arrays\n",
            "  Downloading Arrays-0.0.5-py3-none-any.whl.metadata (1.2 kB)\n",
            "Downloading Arrays-0.0.5-py3-none-any.whl (2.2 kB)\n",
            "Installing collected packages: Arrays\n",
            "Successfully installed Arrays-0.0.5\n"
          ]
        }
      ]
    },
    {
      "cell_type": "code",
      "source": [
        "import Arrays"
      ],
      "metadata": {
        "id": "a7Re_vqJXTU6"
      },
      "execution_count": null,
      "outputs": []
    },
    {
      "cell_type": "code",
      "source": [
        "def ReversingArray(start , end , array):\n",
        "  while (start < end):\n",
        "    array[start] , array[end] = array[end] , array[start]\n",
        "    start += 1\n",
        "    end -= 1\n",
        "    return array"
      ],
      "metadata": {
        "id": "8fNH-T8bXcso"
      },
      "execution_count": null,
      "outputs": []
    },
    {
      "cell_type": "code",
      "source": [
        "if __name__ == \"__main__\":\n",
        "  array = [1,2,3,4,5,6]\n",
        "  print('Old Array: ', array)\n",
        "  print('New Array: ', end = ' ')\n",
        "  print(ReversingArray(0,5,array))\n"
      ],
      "metadata": {
        "colab": {
          "base_uri": "https://localhost:8080/"
        },
        "collapsed": true,
        "id": "cHJr__rkXzto",
        "outputId": "45668ade-f40f-4133-dbe3-90f8a1dc9c3a"
      },
      "execution_count": null,
      "outputs": [
        {
          "output_type": "stream",
          "name": "stdout",
          "text": [
            "Old Array:  [1, 2, 3, 4, 5, 6]\n",
            "New Array:  [6, 2, 3, 4, 5, 1]\n"
          ]
        }
      ]
    },
    {
      "cell_type": "code",
      "source": [
        "from Arrays import Array\n",
        "\n",
        "def rotation(rotateBy, myArray):\n",
        "    for i in range(0, rotateBy):\n",
        "        rotateOne(myArray)\n",
        "    return myArray\n",
        "\n",
        "def rotateOne(myArray):\n",
        "    for i in range(len(myArray) - 1):\n",
        "        myArray[i], myArray[i + 1] = myArray[i + 1], myArray[i]\n",
        "\n",
        "\n",
        "if __name__ == '__main__':\n",
        "    myArray = Array(10)\n",
        "    for i in range(len(myArray)):\n",
        "        myArray.insert(i, i)\n",
        "    print('Before Rotation:',myArray)\n",
        "    print('After Rotation:',rotation(3, myArray))\n",
        "\n",
        "    # OUTPUT:\n",
        "    # Before Rotation: 0 1 2 3 4 5 6 7 8 9\n",
        "    # After Rotation: 3 4 5 6 7 8 9 0 1 2\n"
      ],
      "metadata": {
        "id": "m-nLEXpiYFY1"
      },
      "execution_count": null,
      "outputs": []
    }
  ]
}